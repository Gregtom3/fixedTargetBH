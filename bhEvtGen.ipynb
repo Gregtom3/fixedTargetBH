{
 "cells": [
  {
   "cell_type": "markdown",
   "id": "fa0be488",
   "metadata": {},
   "source": [
    "## Imports"
   ]
  },
  {
   "cell_type": "code",
   "execution_count": 20,
   "id": "3dba36a0",
   "metadata": {},
   "outputs": [],
   "source": [
    "import numpy as np\n",
    "from numba import njit\n",
    "from ROOT import TLorentzVector,TGenPhaseSpace,TFile,TTree,TVector3\n",
    "import random"
   ]
  },
  {
   "cell_type": "markdown",
   "id": "b1e8212e",
   "metadata": {},
   "source": [
    "## Event Parameters"
   ]
  },
  {
   "cell_type": "code",
   "execution_count": 2,
   "id": "2249d9c1",
   "metadata": {},
   "outputs": [],
   "source": [
    "events=1 # Number of events\n",
    "beamE=8.8   # Electron beam energy\n",
    "days=50     # Days of beamtime\n",
    "fprefix=\"test_py\" # output file name prefix\n",
    "targetType=\"p\""
   ]
  },
  {
   "cell_type": "markdown",
   "id": "7b64bc09",
   "metadata": {},
   "source": [
    "## Numerical Constants"
   ]
  },
  {
   "cell_type": "code",
   "execution_count": 3,
   "id": "f672ef87",
   "metadata": {},
   "outputs": [],
   "source": [
    "# Mass of Target\n",
    "# ---------------------------------------------\n",
    "if(targetType==\"p\"):\n",
    "    mD    = 0.938272       # mD is mProton\n",
    "else:\n",
    "    mD    =  1.875612928   # mD is mDeuteron\n",
    "    \n",
    "# Mass of Electron\n",
    "# ---------------------------------------------\n",
    "mE    = 0.000510999\n",
    "m=mE\n",
    "\n",
    "# Fine Structure Constant\n",
    "# ---------------------------------------------\n",
    "alpha_em = 1.0/137.036\n",
    "\n",
    "# Luminosity\n",
    "# ---------------------------------------------\n",
    "lumi = 1.2e37 * 0.5 * 1.0e-24 * 1.0e-9 * 3600.0 * 24 * days"
   ]
  },
  {
   "cell_type": "markdown",
   "id": "e5ea4bca",
   "metadata": {},
   "source": [
    "# Event Objects"
   ]
  },
  {
   "cell_type": "code",
   "execution_count": 4,
   "id": "a04c06a4",
   "metadata": {},
   "outputs": [],
   "source": [
    "# Phase Space Decay\n",
    "# ---------------------------------------------\n",
    "GenPhase = TGenPhaseSpace()\n",
    "\n",
    "# 4-momentum of Particles\n",
    "# ---------------------------------------------\n",
    "eIn, dIn, eOut, dOut, q, dilepton, ePlus, eMinus = TLorentzVector(), TLorentzVector(), TLorentzVector(), TLorentzVector(), TLorentzVector(), TLorentzVector(), TLorentzVector(), TLorentzVector()\n",
    "\n",
    "# 4-momentum of Smeared Particles\n",
    "# ---------------------------------------------\n",
    "smear_dOut, smear_ePlus, smear_eMinus = TLorentzVector(), TLorentzVector(), TLorentzVector()\n",
    "\n",
    "# Returned eventgen variables\n",
    "# ---------------------------------------------\n",
    "weight=np.array([0.0])\n",
    "psf=np.array([0.0])\n",
    "flux=np.array([0.0])\n",
    "acc_ePlus=np.array([0.0])\n",
    "acc_eMinus=np.array([0.0])\n",
    "acc_hOut=np.array([0.0])\n",
    "acc_photo=np.array([0.0])\n",
    "gammaE_=np.array([0.0])\n",
    "t_=np.array([0.0])\n",
    "Mll2_=np.array([0.0])"
   ]
  },
  {
   "cell_type": "markdown",
   "id": "b98d05ab",
   "metadata": {},
   "source": [
    "# Macro for Branching the TTree"
   ]
  },
  {
   "cell_type": "code",
   "execution_count": 5,
   "id": "6b93e7cd",
   "metadata": {},
   "outputs": [],
   "source": [
    "def branchTTree(outTree):\n",
    "    outTree.Branch(\"ePlus\",ePlus)\n",
    "    outTree.Branch(\"eMinus\",eMinus)\n",
    "    outTree.Branch(\"hOut\",dOut)\n",
    "    outTree.Branch(\"smear_ePlus\",smear_ePlus)\n",
    "    outTree.Branch(\"smear_eMinus\",smear_eMinus)\n",
    "    outTree.Branch(\"smear_hOut\",smear_dOut)\n",
    "    outTree.Branch(\"q\",q)\n",
    "    outTree.Branch(\"weight\",weight,\"weight/D\")\n",
    "    outTree.Branch(\"psf\",psf,\"psf/D\")\n",
    "    outTree.Branch(\"flux\",flux,\"flux/D\")\n",
    "    outTree.Branch(\"acc_ePlus\",acc_ePlus,\"acc_ePlus/D\")\n",
    "    outTree.Branch(\"acc_eMinus\",acc_eMinus,\"acc_eMinus/D\")\n",
    "    outTree.Branch(\"acc_hOut\",acc_hOut,\"acc_hOut/D\")\n",
    "    outTree.Branch(\"acc_photo\",acc_photo,\"acc_photo/D\")\n",
    "    outTree.Branch(\"gammaE\",gammaE_,\"gammaE/D\")\n",
    "    outTree.Branch(\"t\",t_,\"t/D\")\n",
    "    outTree.Branch(\"Mll2\",Mll2_,\"Mll2/D\")"
   ]
  },
  {
   "cell_type": "markdown",
   "id": "f07d3ae9",
   "metadata": {},
   "source": [
    "## Functions"
   ]
  },
  {
   "cell_type": "code",
   "execution_count": 6,
   "id": "3d79e5d7",
   "metadata": {},
   "outputs": [],
   "source": [
    "@njit\n",
    "def Bremmstrahlung(kmin,kmax,beamE):\n",
    "    ymin = kmin/beamE\n",
    "    ymax = kmax/beamE\n",
    "    y = random.uniform(ymin,ymax)\n",
    "    flux = 0.01 * (4.0 / 3.0 * np.log(ymax / ymin) - 4.0 / 3.0 * (ymax - ymin) + 1.0 / 2.0 * (ymax * ymax - ymin * ymin))\n",
    "    return flux, y*beamE"
   ]
  },
  {
   "cell_type": "markdown",
   "id": "1d881dbb",
   "metadata": {},
   "source": [
    "## Cross Section Model"
   ]
  },
  {
   "cell_type": "code",
   "execution_count": 7,
   "id": "586f3017",
   "metadata": {},
   "outputs": [],
   "source": [
    "@njit\n",
    "def CE1(t,s,Mll2):\n",
    "    return t*(s-mD**2)*(s-mD**2-Mll2+t)*(Mll2**2+6*Mll2*t+t**2+4*m**2*Mll2)+(Mll2-t)**2*(t**2*Mll2+mD**2*(Mll2+t)**2+4*m**2*mD**2*Mll2)\n",
    "@njit\n",
    "def CE2(t,s,Mll2):\n",
    "    return -t*(s-mD**2)*(s-mD**2-Mll2+t)*(Mll2**2+t**2+4*m**2*(Mll2+2*t-2*m**2))+(Mll2-t)**2*(-mD**2*(Mll2**2+t**2)+2*m**2*(-t**2-2*mD**2*Mll2+4*m**2*mD**2))\n",
    "@njit\n",
    "def CM1(CE1,tauD,Mll2,t):\n",
    "    return CE1-2*mD**2*(1+tauD)*(Mll2-t)**2*(Mll2**2+t**2+4*m**2*Mll2)\n",
    "@njit\n",
    "def CM2(CE2,tauD,Mll2,t):\n",
    "    return CE2+2*mD**2*(1+tauD)*(Mll2-t)**2*(Mll2**2+t**2+4*m**2*(Mll2-t-2*m**2))"
   ]
  },
  {
   "cell_type": "markdown",
   "id": "ebeaeca6",
   "metadata": {},
   "source": [
    "# Kinematics"
   ]
  },
  {
   "cell_type": "code",
   "execution_count": 8,
   "id": "3f045593",
   "metadata": {},
   "outputs": [],
   "source": [
    "@njit\n",
    "def get_EC_ED_cth(EA,EB,MA,MB,MC,MD,t):\n",
    "    # Assuming t > 0\n",
    "    EC=(EA**2+2*EA*EB+EB**2+MC**2-MD**2)/(2*(EA+EB))\n",
    "    ED=(EA**2+2*EA*EB+EB**2-MC**2+MD**2)/(2*(EA+EB))\n",
    "    cth=(-t-MA**2-MD**2+2*EA*ED)/(2*np.sqrt(EA**2-MA**2)*np.sqrt(ED**2-MD**2))\n",
    "    return EC,ED,cth\n",
    "@njit\n",
    "def get_tauD(t):\n",
    "    return -t/(4*mD**2)\n",
    "@njit\n",
    "def get_s(Egamma):\n",
    "    return mD**2+2*mD*Egamma\n",
    "@njit\n",
    "def get_cth_d_lab(Mll2,Egamma,t):\n",
    "    tauD = get_tauD(t)\n",
    "    s = get_s(Egamma)\n",
    "    return (Mll2+2*(s+mD**2)*tauD)/(2*(s-mD**2)*np.sqrt(tauD*(1+tauD)))\n",
    "@njit\n",
    "def get_p_d_lab(t):\n",
    "    return np.sqrt(((2*mD**2-t)/(2*mD))**2-mD**2)\n",
    "@njit\n",
    "def get_p_dilepton_lab(p_d_lab,cth_d_lab,Egamma):\n",
    "    return (p_d_lab**2*np.sqrt(1-cth_d_lab**2)*np.abs(np.sqrt(1-cth_d_lab**2))+(Egamma-p_d_lab*cth_d_lab)**2)/np.sqrt(Egamma**2-2*Egamma*p_d_lab*cth_d_lab+p_d_lab**2)\n",
    "@njit\n",
    "def get_cth_dilepton_lab(p_d_lab,cth_d_lab,Egamma):\n",
    "    return (Egamma-p_d_lab*cth_d_lab)/np.sqrt(Egamma**2-2*Egamma*p_d_lab*cth_d_lab+p_d_lab**2)\n",
    "@njit\n",
    "def get_beta(Mll2):\n",
    "    return np.sqrt(1-4*m**2/Mll2)\n",
    "@njit\n",
    "def get_max_Mll2(Egamma,t):\n",
    "    return 2*mD*Egamma+t-(Egamma/mD)*(2*mD**2-t-np.sqrt(t**2-4*mD**2*t))\n",
    "@njit\n",
    "def get_delta_T(tauD,t):\n",
    "    # Approximation for small -t , large Mll2, large s\n",
    "    return np.sqrt(-t*(1-tauD)-mD**2*tauD**2)\n",
    "@njit\n",
    "def get_delta_T2(s,Mll2,t,r):\n",
    "    r0 = np.sqrt((s-mD**2)**2)\n",
    "    cth_cm = (2 * s * (t - 2 * mD * mD) + (s + mD * mD)*(s + mD * mD - Mll2)) / (r0 * r)\n",
    "    sth_cm = np.sqrt(1-cth_cm**2)\n",
    "    return sth_cm*r/(2*np.sqrt(s))"
   ]
  },
  {
   "cell_type": "markdown",
   "id": "5b96b91d",
   "metadata": {},
   "source": [
    "# Form Factors"
   ]
  },
  {
   "cell_type": "code",
   "execution_count": 9,
   "id": "8380d9b6",
   "metadata": {},
   "outputs": [],
   "source": [
    "conv = 0.197327\n",
    "a1,a2,a3,a4,als1,als2,als3,als4 = 1.57057 * conv**2, 12.23792 * conv**2, -42.04576 * conv**2, 27.92014 * conv**2, 1.52501 * conv**2, 8.75139 * conv**2,  15.97777 * conv**2, 23.20415* conv**2\n",
    "b1,b2,b3,b4,bes1,bes2,bes3,bes4 = 0.07043 * conv, 0.14443 * conv, -0.27343 * conv, 0.05856 * conv, 43.67795 * conv**2, 30.05435 * conv**2, 16.43075 * conv**2,  2.80716* conv**2\n",
    "c1,c2,c3,c4,gas1,gas2,gas3,gas4 = -0.16577, 0.27557 ,  -0.05382 , -0.05598 ,  1.87055 * conv**2, 14.95683 * conv**2,  28.04312 * conv**2, 41.12940* conv**2\n",
    "@njit\n",
    "def get_g0_g1_g2(Q2):\n",
    "    g0 = a1/(als1+Q2)+a2/(als2+Q2)+a3/(als3+Q2)+a4/(als4+Q2)\n",
    "    g1 = np.sqrt(Q2)*(b1/(bes1+Q2)+b2/(bes2+Q2)+b3/(bes3+Q2)+b4/(bes4+Q2))\n",
    "    g2 = Q2 * (c1/(gas1+Q2)+c2/(gas2+Q2)+c3/(gas3+Q2)+c4/(gas4+Q2))\n",
    "    return g0,g1,g2\n",
    "@njit\n",
    "def get_GC_GQ_GM(t):\n",
    "    #t_fm = t/0.0389 # GeV^2 --> fm^-1\n",
    "    tau = get_tauD(t)\n",
    "    g0,g1,g2 = get_g0_g1_g2(-t)\n",
    "    GC = 1/(1-t/4/0.807)**4/(2*tau+1)*((1-2/3*tau)*g0+8/3*np.sqrt(2*tau)*g1+2/3*(2*tau-1)*g2)\n",
    "    GQ = 1/(1-t/4/0.807)**4/(2*tau+1)*(-g0+np.sqrt(2/tau)*g1-(tau+1)/tau*g2)\n",
    "    GM = 1/(1-t/4/0.807)**4/(2*tau+1)*(2*g0+2*(2*tau-1)/np.sqrt(2*tau)*g1-2*g2)\n",
    "    return GC,GQ,GM"
   ]
  },
  {
   "cell_type": "markdown",
   "id": "b78ade66",
   "metadata": {},
   "source": [
    "# Cross Section"
   ]
  },
  {
   "cell_type": "code",
   "execution_count": 10,
   "id": "33553cf3",
   "metadata": {},
   "outputs": [],
   "source": [
    "@njit\n",
    "def get_dsigma_dt_dMll2(t,Egamma,Mll2):\n",
    "    B = get_beta(Mll2)\n",
    "    s = get_s(Egamma)\n",
    "    tauD = get_tauD(t)\n",
    "    ce1 = CE1(t,s,Mll2)\n",
    "    ce2 = CE2(t,s,Mll2)\n",
    "    cm1 = CM1(ce1,tauD,Mll2,t)\n",
    "    cm2 = CM2(ce2,tauD,Mll2,t)\n",
    "    CE = ce1 + (ce2/B)*np.log((1+B)/(1-B))\n",
    "    CM = cm1 + (cm2/B)*np.log((1+B)/(1-B))\n",
    "    GC,GQ,GM = get_GC_GQ_GM(t)\n",
    "    factor1 = (4*alpha_em**3*B)/((s-mD**2)**2*t**2*(Mll2-t)**4)\n",
    "    factor2 = (CE*(GC**2+8/9*tauD**2*GQ**2)+CM*2/3*tauD*GM**2)\n",
    "    return factor1*factor2*(0.389379*10**6) # nb/GeV^4\n",
    "@njit\n",
    "def get_dsigma_dt_dMll2_dcosth(t,Egamma,Mll2,theta,phi):\n",
    "    beta = get_beta(Mll2)\n",
    "    s = get_s(Egamma)\n",
    "    tauD = get_tauD(t)\n",
    "    r = np.sqrt((s-mD**2-Mll2)**2-4*mD**2*Mll2)\n",
    "    deltaT = get_delta_T2(s,Mll2,t,r)\n",
    "    a = beta * r * np.cos(theta)\n",
    "    b = beta * ((Mll2*(s-mD**2-Mll2)+t*(s-mD**2+Mll2))/r)*np.cos(theta)-beta*((2*(s-mD**2)*np.sqrt(Mll2)*deltaT)/r)*np.sin(theta)*np.cos(phi)\n",
    "    L = ((Mll2-t)**2-b**2)/4\n",
    "    A = (s-mD**2)**2*deltaT**2-t*a*(a+b)-mD**2*b**2-t*(4*mD**2-t)*Mll2+mE**2/L*(((Mll2-t)*(a+b)-(s-mD**2)*b)**2+t*(4*mD**2-t)*(Mll2-t)**2)\n",
    "    B = (Mll2+t)**2 + b**2 + 8 * mE**2 * Mll2 - 4*mE**2*(t+2*mE**2)/L*(Mll2-t)**2\n",
    "    F1p = (1. / ((1 - t / 0.71)*(1 - t / 0.71)))*(1 / (1 - t / (4. * mD * mD)))*(1 - 2.79 * t / (4 * mD * mD))\n",
    "    F2p = (1. / ((1 - t / 0.71)*(1 - t / 0.71)))*(1 / (1 - t / (4. * mD * mD)))*(2.793 - 1)\n",
    "    factor1 = (alpha_em**3*beta)/(4*np.pi*(s-mD**2)**2*(-t)*L)\n",
    "    factor2 = (F1p**2-t/4/mD**2*F2p**2)*A/(-t)+(F1p+F2p)**2*B/2\n",
    "    return factor1*factor2*(0.389379*10**6) # nb/GeV^4"
   ]
  },
  {
   "cell_type": "markdown",
   "id": "b403a35e",
   "metadata": {},
   "source": [
    "## Acceptance"
   ]
  },
  {
   "cell_type": "code",
   "execution_count": 11,
   "id": "f790c6fa",
   "metadata": {},
   "outputs": [],
   "source": [
    "facc_solid = TFile(\"acceptance/acceptance_solid_JPsi_electron_target315_output.root\",\"r\")\n",
    "acc_ele_solid = facc_solid.Get(\"acceptance_ThetaP_overall\")\n",
    "def acc_e(P):\n",
    "    binx = acc_ele_solid.GetXaxis().FindBin(P.Theta()*180.0/np.pi)\n",
    "    biny = acc_ele_solid.GetYaxis().FindBin(P.P())\n",
    "    return acc_ele_solid.GetBinContent(binx,biny)\n",
    "\n",
    "def acc_D(P):\n",
    "    binx = acc_ele_solid.GetXaxis().FindBin(P.Theta()*180.0/np.pi)\n",
    "    biny = acc_ele_solid.GetYaxis().FindBin(P.P())\n",
    "    return acc_ele_solid.GetBinContent(binx,biny)"
   ]
  },
  {
   "cell_type": "markdown",
   "id": "0b525fff",
   "metadata": {},
   "source": [
    "# Smearing"
   ]
  },
  {
   "cell_type": "code",
   "execution_count": 12,
   "id": "d97d69e1",
   "metadata": {},
   "outputs": [],
   "source": [
    "fres_electron_solid = TFile(\"acceptance/JPsi_electron_resolution_2d.root\",\"READ\")\n",
    "fres_positron_solid = TFile(\"acceptance/JPsi_electron_resolution_2d.root\",\"READ\")\n",
    "fres_proton_solid = TFile(\"acceptance/JPsi_proton_resolution_2d.root\",\"READ\")\n",
    "res_electron_solid_p = fres_electron_solid.Get(\"p_resolution\")\n",
    "res_positron_solid_p = fres_positron_solid.Get(\"p_resolution\")\n",
    "res_proton_solid_p = fres_proton_solid.Get(\"p_resolution\")\n",
    "res_electron_solid_th = fres_electron_solid.Get(\"theta_resolution\")\n",
    "res_positron_solid_th = fres_positron_solid.Get(\"theta_resolution\")\n",
    "res_proton_solid_th = fres_proton_solid.Get(\"theta_resolution\")\n",
    "res_electron_solid_phi = fres_electron_solid.Get(\"phi_resolution\")\n",
    "res_positron_solid_phi = fres_positron_solid.Get(\"phi_resolution\")\n",
    "res_proton_solid_phi = fres_proton_solid.Get(\"phi_resolution\")\n",
    "res_electron_solid_p.Scale(1.5)\n",
    "res_positron_solid_p.Scale(1.5)\n",
    "res_proton_solid_p.Scale(1.5)\n",
    "res_electron_solid_th.Scale(1.5)\n",
    "res_positron_solid_th.Scale(1.5)\n",
    "res_proton_solid_th.Scale(1.5)\n",
    "res_electron_solid_phi.Scale(1.5)\n",
    "res_positron_solid_phi.Scale(1.5)\n",
    "res_proton_solid_phi.Scale(1.5)"
   ]
  },
  {
   "cell_type": "code",
   "execution_count": 13,
   "id": "2e551dc8",
   "metadata": {},
   "outputs": [
    {
     "name": "stdout",
     "output_type": "stream",
     "text": [
      "(x,y,z,t)=(1.000000,2.000000,3.000000,4.000000) (P,eta,phi,E)=(3.741657,1.103587,1.107149,4.000000)\n"
     ]
    }
   ],
   "source": [
    "def smear_particle(P,particleType):\n",
    "    p = P.P()\n",
    "    th = P.Theta()\n",
    "    phi= P.Phi()\n",
    "    if(particleType==\"e+\" or particleType==\"e-\"):\n",
    "        dp = res_positron_solid_p.GetBinContent(res_positron_solid_p.FindBin(p,th*180.0/np.pi))/100.0\n",
    "        dth = res_positron_solid_th.GetBinContent(res_positron_solid_th.FindBin(p,th*180.0/np.pi))/100.0\n",
    "        dphi = res_positron_solid_phi.GetBinContent(res_positron_solid_phi.FindBin(p,th*180.0/np.pi))/100.0\n",
    "    elif(particleType==\"p\" or particleType==\"d\"):\n",
    "        dp = res_proton_solid_p.GetBinContent(res_proton_solid_p.FindBin(p,th*180.0/np.pi))/100.0\n",
    "        dth = res_proton_solid_th.GetBinContent(res_proton_solid_th.FindBin(p,th*180.0/np.pi))/100.0\n",
    "        dphi = res_proton_solid_phi.GetBinContent(res_proton_solid_phi.FindBin(p,th*180.0/np.pi))/100.0\n",
    "    pprime = p*np.random.normal(1,dp)\n",
    "    thprime = th*np.random.normal(1,dth)\n",
    "    phiprime = phi*np.random.normal(1,dphi)\n",
    "    smear_P = TLorentzVector(pprime*np.sin(thprime)*np.cos(phiprime),\n",
    "                            pprime*np.sin(thprime)*np.sin(phiprime),\n",
    "                            pprime*np.cos(thprime),\n",
    "                            np.sqrt(pprime**2+P.M2()))\n",
    "    return smear_P\n",
    "smear_particle(TLorentzVector(1,2,3,4),\"e+\").Print()"
   ]
  },
  {
   "cell_type": "markdown",
   "id": "ddca6844",
   "metadata": {},
   "source": [
    "# Kinematic Limits"
   ]
  },
  {
   "cell_type": "code",
   "execution_count": 14,
   "id": "583f4f81",
   "metadata": {},
   "outputs": [],
   "source": [
    "tmin,tmax=-1.5,-1.0\n",
    "Mll2min,Mll2max=4,9\n",
    "kmin=6   # Minimum photon energy\n",
    "kmax=8   # Maximum photon energy"
   ]
  },
  {
   "cell_type": "code",
   "execution_count": null,
   "id": "ff35a5c8",
   "metadata": {},
   "outputs": [],
   "source": []
  },
  {
   "cell_type": "markdown",
   "id": "e4435b4e",
   "metadata": {},
   "source": [
    "## Generator"
   ]
  },
  {
   "cell_type": "code",
   "execution_count": 15,
   "id": "3aa4b662",
   "metadata": {},
   "outputs": [
    {
     "name": "stdout",
     "output_type": "stream",
     "text": [
      "Beginning Monte Carlo Simulation of e(8.80 GeV)+p --> gamma + p --> e- + e+ + p'\n",
      "----------------------------\n",
      "Event Kinematics\n",
      "1.0 < |t| < 1.5 [GeV^2]\n",
      "4 < Mll2 < 9 [GeV^2]\n",
      "6 < Egamma < 8 [GeV]\n",
      "----------------------------\n",
      "Number of Events = 1\n",
      "Luminosity = 6000.0 (events/nb/s)\n",
      "Integrated Luminosity = 25920000000.0 (events/nb)\n"
     ]
    },
    {
     "ename": "NameError",
     "evalue": "name 'theta' is not defined",
     "output_type": "error",
     "traceback": [
      "\u001b[0;31m---------------------------------------------------------------------------\u001b[0m",
      "\u001b[0;31mNameError\u001b[0m                                 Traceback (most recent call last)",
      "\u001b[0;32m<timed exec>\u001b[0m in \u001b[0;36m<module>\u001b[0;34m\u001b[0m\n",
      "\u001b[0;31mNameError\u001b[0m: name 'theta' is not defined"
     ]
    },
    {
     "name": "stdout",
     "output_type": "stream",
     "text": [
      "(x,y,z,t)=(0.000000,0.000000,-0.000000,2.293262) (P,eta,phi,E)=(0.000000,-5.545193,0.000000,2.293262)\n",
      "(x,y,z,t)=(0.649889,-1.003580,-1.940926,2.465173) (P,eta,phi,E)=(2.279632,-1.261295,-0.996130,2.465173)\n"
     ]
    }
   ],
   "source": [
    "%%time\n",
    "# Generate file name\n",
    "# ------------------------------\n",
    "fname=\"./data/{}_e{}_beamE_{:.2f}_evts_{}.root\".format(fprefix,targetType,beamE,events)\n",
    "# Generate TFile\n",
    "# ------------------------------\n",
    "outFile=TFile(fname,\"RECREATE\")\n",
    "# Generate TTree\n",
    "# ------------------------------\n",
    "outTree=TTree(\"tree\",\"tree\")\n",
    "# Create the branches for the TTree\n",
    "# ------------------------------\n",
    "#outTree.Branch(\"ePlus\",ePlus)\n",
    "#outTree.Branch(\"eMinus\",eMinus)\n",
    "outTree.Branch(\"hOut\",dOut)\n",
    "\n",
    "outTree.Branch(\"smear_ePlus\",smear_ePlus)\n",
    "outTree.Branch(\"smear_eMinus\",smear_eMinus)\n",
    "outTree.Branch(\"smear_hOut\",smear_dOut)\n",
    "\n",
    "outTree.Branch(\"q\",q)\n",
    "outTree.Branch(\"weight\",weight,\"weight/D\")\n",
    "outTree.Branch(\"psf\",psf,\"psf/D\")\n",
    "outTree.Branch(\"flux\",flux,\"flux/D\")\n",
    "outTree.Branch(\"acc_ePlus\",acc_ePlus,\"acc_ePlus/D\")\n",
    "outTree.Branch(\"acc_eMinus\",acc_eMinus,\"acc_eMinus/D\")\n",
    "outTree.Branch(\"acc_hOut\",acc_hOut,\"acc_hOut/D\")\n",
    "outTree.Branch(\"acc_photo\",acc_photo,\"acc_photo/D\")\n",
    "outTree.Branch(\"gammaE\",gammaE_,\"gammaE/D\")\n",
    "outTree.Branch(\"t\",t_,\"t/D\")\n",
    "\n",
    "outTree.Branch(\"Mll2\",Mll2_,\"Mll2/D\")\n",
    "# Print event information\n",
    "# ------------------------------\n",
    "\n",
    "print(\"Beginning Monte Carlo Simulation of e({:.2f} GeV)+{} --> gamma + {} --> e- + e+ + {}'\".format(beamE,targetType,targetType,targetType))\n",
    "print(\"----------------------------\")\n",
    "print(\"Event Kinematics\")\n",
    "print(np.abs(tmax), \"< |t| <\",np.abs(tmin),\"[GeV^2]\")\n",
    "print(Mll2min,\"< Mll2 <\",Mll2max,\"[GeV^2]\")\n",
    "print(kmin,\"< Egamma <\",kmax,\"[GeV]\")\n",
    "print(\"----------------------------\")\n",
    "print(\"Number of Events =\",events)\n",
    "print(\"Luminosity =\", np.round(lumi/3600.0/24/days,2),\"(events/nb/s)\")\n",
    "print(\"Integrated Luminosity =\",np.round(lumi,2),\"(events/nb)\")\n",
    "\n",
    "success=0\n",
    "\n",
    "for evt in range(events):\n",
    "    if( (evt+1)%(events/10)==0):\n",
    "        print(evt+1,\"out of\",events)\n",
    "    # Set Initial Vectors\n",
    "    eIn.SetPxPyPzE(0,0,np.sqrt(beamE**2-mE**2),beamE)\n",
    "    dIn.SetXYZM(0,0,0,mD)\n",
    "    \n",
    "    # Do Bremmstrahlung\n",
    "    flux[0], gammaE = Bremmstrahlung(kmin,kmax,beamE)\n",
    "    q.SetPxPyPzE(0,0,gammaE,gammaE)\n",
    "    \n",
    "    # Get scattered electron\n",
    "    eOut = eIn-q\n",
    "    \n",
    "    # Generate t from allowable range\n",
    "    t = random.uniform(tmin,tmax)\n",
    "    \n",
    "    # Generate Mll2 from allowable range\n",
    "    Mll2max0 = get_max_Mll2(gammaE,t)\n",
    "    if(Mll2max<Mll2max0):\n",
    "        Mll2max0=Mll2max\n",
    "    Mll2 = random.uniform(Mll2min,Mll2max0)\n",
    "    \n",
    "    # Set Lab Frame TLorentzVectors\n",
    "    phi=random.uniform(0,2*np.pi)\n",
    "    pDeuteron = get_p_d_lab(t)\n",
    "    cthDeuteron = get_cth_d_lab(Mll2,gammaE,t)\n",
    "    pDilepton = get_p_dilepton_lab(pDeuteron,cthDeuteron,gammaE)\n",
    "    cthDilepton = get_cth_dilepton_lab(pDeuteron,cthDeuteron,gammaE)\n",
    "    \n",
    "    dOut.SetPxPyPzE(pDeuteron*np.sqrt(1-cthDeuteron**2)*np.cos(phi),\n",
    "                    pDeuteron*np.sqrt(1-cthDeuteron**2)*np.sin(phi),\n",
    "                    pDeuteron*cthDeuteron,\n",
    "                    np.sqrt(pDeuteron**2+mD**2))\n",
    "    \n",
    "    dilepton.SetPxPyPzE(-pDilepton*np.sqrt(1-cthDilepton**2)*np.cos(phi),\n",
    "                        -pDilepton*np.sqrt(1-cthDilepton**2)*np.sin(phi),\n",
    "                        pDilepton*cthDilepton,\n",
    "                        np.sqrt(pDilepton**2+Mll2))\n",
    "    \n",
    "    # Decay the Dilepton\n",
    "    GenPhase.SetDecay(dilepton,2,np.array([m,m]))\n",
    "    GenPhase.Generate()\n",
    "    ePlus,eMinus = GenPhase.GetDecay(0), GenPhase.GetDecay(1)\n",
    "    comBOOST=dilepton.BoostVector()\n",
    "    \n",
    "    ePlus.Boost(-comBOOST)\n",
    "    dOut.Boost(-comBOOST)\n",
    "    Zhat=-dOut.Vect()\n",
    "    \n",
    "    dilepton.Print()\n",
    "    dOut.Print()\n",
    "    # Get dsdt of (gamma + D --> e-e+ + D)\n",
    "    \n",
    "    weight[0] = get_dsigma_dt_dMll2_dcosth(t,gammaE,Mll2,theta,phi)\n",
    "    \n",
    "    # Get phase space factor\n",
    "    psf[0] = (tmax-tmin)*(Mll2max0-Mll2min)*4*np.pi\n",
    "    \n",
    "    # Get acceptances of final state particles\n",
    "    acc_ePlus[0] = acc_e(ePlus)\n",
    "    acc_eMinus[0]= acc_e(eMinus)\n",
    "    acc_hOut[0]  = acc_D(dOut)\n",
    "    acc_photo[0]   = acc_ePlus[0]*acc_eMinus[0]\n",
    "    \n",
    "    # Store event variables\n",
    "    gammaE_[0]   = gammaE\n",
    "    t_[0]        = t\n",
    "    Mll2_[0]     = Mll2\n",
    "    \n",
    "    # Smear final state particles if allowed based on acceptance\n",
    "    if(acc_ePlus[0]>0):\n",
    "        temp = smear_particle(ePlus,\"e+\")\n",
    "        smear_ePlus.SetPx(temp.Px())\n",
    "        smear_ePlus.SetPy(temp.Py())\n",
    "        smear_ePlus.SetPz(temp.Pz())\n",
    "        smear_ePlus.SetE(temp.E())\n",
    "    if(acc_eMinus[0]>0):\n",
    "        temp = smear_particle(eMinus,\"e-\")\n",
    "        smear_eMinus.SetPx(temp.Px())\n",
    "        smear_eMinus.SetPy(temp.Py())\n",
    "        smear_eMinus.SetPz(temp.Pz())\n",
    "        smear_eMinus.SetE(temp.E())\n",
    "    if(acc_hOut[0]>0):\n",
    "        temp = smear_particle(dOut,targetType)\n",
    "        smear_dOut.SetPx(temp.Px())\n",
    "        smear_dOut.SetPy(temp.Py())\n",
    "        smear_dOut.SetPz(temp.Pz())\n",
    "        smear_dOut.SetE(temp.E())\n",
    "        \n",
    "    # Fill the tree only when weight > 0\n",
    "    if(weight[0]>0.0):\n",
    "        success+=1\n",
    "        outTree.Fill()\n",
    "        \n",
    "print(\"----------------------------\")\n",
    "print(\"Number of Sucesses =\",success,\"out of\",events,\"events\")\n",
    "print(\"Monte Carlo generated a valid event\",np.round(success/events*100,2),\"% of the time\")\n",
    "print(\"----------------------------\")"
   ]
  },
  {
   "cell_type": "code",
   "execution_count": null,
   "id": "5e721bd6",
   "metadata": {},
   "outputs": [],
   "source": []
  },
  {
   "cell_type": "code",
   "execution_count": 21,
   "id": "8787f126",
   "metadata": {},
   "outputs": [
    {
     "data": {
      "text/plain": [
       "2.58948455878268"
      ]
     },
     "execution_count": 21,
     "metadata": {},
     "output_type": "execute_result"
    },
    {
     "name": "stdout",
     "output_type": "stream",
     "text": [
      "(x,y,z,t)=(0.649889,-1.003580,-1.940926,2.465173) (P,eta,phi,E)=(2.279632,-1.261295,-0.996130,2.465173)\n"
     ]
    }
   ],
   "source": [
    "dOut.Print()\n",
    "dOut.Angle(TVector3(0,0,1))"
   ]
  },
  {
   "cell_type": "code",
   "execution_count": null,
   "id": "90b97567",
   "metadata": {},
   "outputs": [],
   "source": []
  }
 ],
 "metadata": {
  "kernelspec": {
   "display_name": "Python 3 (ipykernel)",
   "language": "python",
   "name": "python3"
  },
  "language_info": {
   "codemirror_mode": {
    "name": "ipython",
    "version": 3
   },
   "file_extension": ".py",
   "mimetype": "text/x-python",
   "name": "python",
   "nbconvert_exporter": "python",
   "pygments_lexer": "ipython3",
   "version": "3.8.10"
  }
 },
 "nbformat": 4,
 "nbformat_minor": 5
}
